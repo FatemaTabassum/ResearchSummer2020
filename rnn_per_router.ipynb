{
  "nbformat": 4,
  "nbformat_minor": 0,
  "metadata": {
    "colab": {
      "name": "rnn_july_2.ipynb",
      "provenance": [],
      "collapsed_sections": []
    },
    "kernelspec": {
      "name": "python3",
      "display_name": "Python 3"
    }
  },
  "cells": [
    {
      "cell_type": "code",
      "metadata": {
        "id": "ohmVH1HUjHhm",
        "colab_type": "code",
        "colab": {}
      },
      "source": [
        "import pandas as pd\n",
        "from pandas import to_numeric\n",
        "import numpy as np\n",
        "from keras import models\n",
        "from keras import layers\n",
        "from keras.layers import  LSTM, Dense, Dropout, SimpleRNN\n",
        "from keras.models import Sequential\n",
        "from keras.utils import to_categorical\n",
        "from keras.layers import Dropout\n",
        "from sklearn import preprocessing\n",
        "from sklearn.model_selection import train_test_split\n",
        "from matplotlib import pyplot as plt\n",
        "import keras.utils as ku\n",
        "from keras.preprocessing.sequence import pad_sequences\n",
        "\n",
        "\n",
        "import tensorflow as tf\n",
        "\n"
      ],
      "execution_count": null,
      "outputs": []
    },
    {
      "cell_type": "code",
      "metadata": {
        "id": "6hiQOli5rUeJ",
        "colab_type": "code",
        "colab": {}
      },
      "source": [
        "#!pip install q keras==2.3.0\n",
        "# previously it was Keras 2.4.3 in draco"
      ],
      "execution_count": null,
      "outputs": []
    },
    {
      "cell_type": "code",
      "metadata": {
        "id": "WGPxWLmaqdAW",
        "colab_type": "code",
        "colab": {
          "base_uri": "https://localhost:8080/",
          "height": 51
        },
        "outputId": "bd9f6834-570c-4ba2-bda9-9b790f8870e8"
      },
      "source": [
        "import keras\n",
        "print(keras.__version__)\n",
        "print(np.__version__)"
      ],
      "execution_count": null,
      "outputs": [
        {
          "output_type": "stream",
          "text": [
            "2.4.3\n",
            "1.18.5\n"
          ],
          "name": "stdout"
        }
      ]
    },
    {
      "cell_type": "code",
      "metadata": {
        "id": "1tZ4LFYb1bQo",
        "colab_type": "code",
        "colab": {}
      },
      "source": [
        "def dataset_preparation_rnn_lstm(__input_sequences__, __labels__):\n",
        "  num_of_classes = 2\n",
        "  input_sequences = __input_sequences__\n",
        "  input_sequences = input_sequences.reshape(input_sequences.shape[0], input_sequences.shape[1], input_sequences.shape[2])\n",
        "  labels = __labels__\n",
        "  total_time_steps = __input_sequences__.shape[1]\n",
        "  labels = ku.to_categorical(labels, num_classes = num_of_classes)\n",
        "  return input_sequences, labels, total_time_steps, num_of_classes\n"
      ],
      "execution_count": null,
      "outputs": []
    },
    {
      "cell_type": "code",
      "metadata": {
        "id": "oUiI7nCY4FMV",
        "colab_type": "code",
        "colab": {}
      },
      "source": [
        "\n",
        "def create_model_rnn(input_sequences, label, total_time_steps, num_of_classes):\n",
        "    model = Sequential()\n",
        "    model.add(SimpleRNN(units=254, input_shape=(input_sequences.shape[1], input_sequences.shape[2]),\n",
        "                                              return_sequences=True))\n",
        "    model.add(SimpleRNN(units=128, return_sequences=False))\n",
        "    model.add(Dense(num_of_classes, activation='softmax'))\n",
        "    model.compile(loss='categorical_crossentropy', optimizer='adam', metrics=['accuracy'])\n",
        "    print(model.summary())\n",
        "    history = model.fit(input_sequences, label, epochs=5, verbose=1,\n",
        "                        validation_split = 0.2)\n",
        "    model.save(\"2_Simple_RNN_254Units_binary_crossentropy_adam.h5\")\n",
        "    print(model.summary())\n",
        "    return model, history"
      ],
      "execution_count": null,
      "outputs": []
    },
    {
      "cell_type": "code",
      "metadata": {
        "id": "pmouiTBI5VRP",
        "colab_type": "code",
        "colab": {}
      },
      "source": [
        "f = open(\"acc_8.txt\", \"a\")"
      ],
      "execution_count": null,
      "outputs": []
    },
    {
      "cell_type": "code",
      "metadata": {
        "id": "4nUUrfmDjdOu",
        "colab_type": "code",
        "colab": {
          "base_uri": "https://localhost:8080/",
          "height": 1000
        },
        "outputId": "a3322c9f-03c6-44a3-ee32-6b42370fe27d"
      },
      "source": [
        "for i in range(13, 14):\n",
        "  # load time_step_data\n",
        "  ts_st = str(i) + '_time_step_50_features_4_data.npy'\n",
        "  time_step_data = np.load(ts_st)\n",
        "  #time_step_data = time_step_data[:100]\n",
        "\n",
        "  # load time_step_data\n",
        "  labels_st = str(i) + '_time_step_50_features_4_labels.npy'\n",
        "  labels_data = np.load(labels_st)\n",
        "  #labels_data = labels_data[:100]\n",
        "\n",
        "  '''\n",
        "  print(time_step_data.shape)\n",
        "  print(labels_data.shape)\n",
        "  '''\n",
        "\n",
        "  train_X, test_X, train_labels, test_labels = train_test_split(time_step_data, \n",
        "                                                              labels_data, \n",
        "                                                              test_size = 0.2,\n",
        "                                                              random_state = 0)\n",
        "  \n",
        "  '''                                                            \n",
        "  print('Training Features Shape:', train_X.shape)\n",
        "  print('Training Labels Shape:', train_labels.shape)\n",
        "  print()\n",
        "  print('Testing Features Shape:', test_X.shape)\n",
        "  print('Testing Labels Shape:', test_labels.shape)\n",
        "  '''\n",
        "\n",
        "  input_sequences, input_labels, total_time_steps, num_of_classes = dataset_preparation_rnn_lstm(train_X, train_labels)\n",
        "  model, history = create_model_rnn(input_sequences, input_labels, total_time_steps, num_of_classes)\n",
        "  # evaluate the model\n",
        "  _, train_acc = model.evaluate(input_sequences, input_labels, verbose=0)\n",
        "  print(\"======================DONE==========================\")\n",
        "  st = 'src= '+ str(i) + ' train_acc ' + str(train_acc) + '\\n'\n",
        "  print(st)\n",
        "  f.write(st)\n",
        "\n",
        "f.close()"
      ],
      "execution_count": null,
      "outputs": [
        {
          "output_type": "stream",
          "text": [
            "Model: \"sequential\"\n",
            "_________________________________________________________________\n",
            "Layer (type)                 Output Shape              Param #   \n",
            "=================================================================\n",
            "simple_rnn (SimpleRNN)       (None, 50, 254)           65786     \n",
            "_________________________________________________________________\n",
            "simple_rnn_1 (SimpleRNN)     (None, 128)               49024     \n",
            "_________________________________________________________________\n",
            "dense (Dense)                (None, 2)                 258       \n",
            "=================================================================\n",
            "Total params: 115,068\n",
            "Trainable params: 115,068\n",
            "Non-trainable params: 0\n",
            "_________________________________________________________________\n",
            "None\n",
            "Epoch 1/5\n",
            "4996/4996 [==============================] - 264s 53ms/step - loss: 0.5159 - accuracy: 0.7375 - val_loss: 0.4835 - val_accuracy: 0.7593\n",
            "Epoch 2/5\n",
            "4996/4996 [==============================] - 274s 55ms/step - loss: 0.5087 - accuracy: 0.7406 - val_loss: 0.4902 - val_accuracy: 0.7403\n",
            "Epoch 3/5\n",
            "4996/4996 [==============================] - 281s 56ms/step - loss: 0.5031 - accuracy: 0.7440 - val_loss: 0.4937 - val_accuracy: 0.7528\n",
            "Epoch 4/5\n",
            "4996/4996 [==============================] - 268s 54ms/step - loss: 0.5003 - accuracy: 0.7474 - val_loss: 0.5342 - val_accuracy: 0.7356\n",
            "Epoch 5/5\n",
            "4996/4996 [==============================] - 268s 54ms/step - loss: 0.5157 - accuracy: 0.7366 - val_loss: 0.5338 - val_accuracy: 0.7262\n",
            "Model: \"sequential\"\n",
            "_________________________________________________________________\n",
            "Layer (type)                 Output Shape              Param #   \n",
            "=================================================================\n",
            "simple_rnn (SimpleRNN)       (None, 50, 254)           65786     \n",
            "_________________________________________________________________\n",
            "simple_rnn_1 (SimpleRNN)     (None, 128)               49024     \n",
            "_________________________________________________________________\n",
            "dense (Dense)                (None, 2)                 258       \n",
            "=================================================================\n",
            "Total params: 115,068\n",
            "Trainable params: 115,068\n",
            "Non-trainable params: 0\n",
            "_________________________________________________________________\n",
            "None\n",
            "======================DONE==========================\n",
            "src= 13 train_acc 0.7239040732383728\n",
            "\n"
          ],
          "name": "stdout"
        }
      ]
    },
    {
      "cell_type": "code",
      "metadata": {
        "id": "XLfxapRc3nta",
        "colab_type": "code",
        "colab": {
          "base_uri": "https://localhost:8080/",
          "height": 68
        },
        "outputId": "2fbc66a8-083d-4160-b8bd-065d1af85d0f"
      },
      "source": [
        ""
      ],
      "execution_count": null,
      "outputs": [
        {
          "output_type": "stream",
          "text": [
            "(250693, 50, 2)\n",
            "(250693,)\n",
            "[0 1 1 ... 1 1 1]\n"
          ],
          "name": "stdout"
        }
      ]
    },
    {
      "cell_type": "markdown",
      "metadata": {
        "id": "zFN4QbMU5fhE",
        "colab_type": "text"
      },
      "source": [
        "** Label Data **"
      ]
    },
    {
      "cell_type": "code",
      "metadata": {
        "id": "A9TJukG6v4qn",
        "colab_type": "code",
        "colab": {
          "base_uri": "https://localhost:8080/",
          "height": 34
        },
        "outputId": "350b2429-5a6c-489f-9075-54c319daceb9"
      },
      "source": [
        "print(time_step_data[0])\n",
        "print(labels_data[0])"
      ],
      "execution_count": null,
      "outputs": [
        {
          "output_type": "stream",
          "text": [
            "0\n"
          ],
          "name": "stdout"
        }
      ]
    },
    {
      "cell_type": "code",
      "metadata": {
        "id": "AUnWoq9HZxwO",
        "colab_type": "code",
        "colab": {
          "base_uri": "https://localhost:8080/",
          "height": 136
        },
        "outputId": "91f747d8-4943-4ecb-de38-11afe606c959"
      },
      "source": [
        "# convert labels to to_categorical\n",
        "labels_data_categorical = ku.to_categorical(labels_data, num_classes = 2)\n",
        "labels_data_categorical.astype(np.int)"
      ],
      "execution_count": null,
      "outputs": [
        {
          "output_type": "execute_result",
          "data": {
            "text/plain": [
              "array([[1, 0],\n",
              "       [1, 0],\n",
              "       [0, 1],\n",
              "       ...,\n",
              "       [0, 1],\n",
              "       [0, 1],\n",
              "       [0, 1]])"
            ]
          },
          "metadata": {
            "tags": []
          },
          "execution_count": 6
        }
      ]
    },
    {
      "cell_type": "code",
      "metadata": {
        "id": "-U7NzfkplaJV",
        "colab_type": "code",
        "colab": {
          "base_uri": "https://localhost:8080/",
          "height": 71
        },
        "outputId": "9ac77b00-8b97-4ca8-db3a-3cb87ad56325"
      },
      "source": [
        "# Split the data into training and testing sets\n",
        "\n",
        "\n",
        "train_X, test_X, train_labels, test_labels = train_test_split(time_step_data, \n",
        "                                                              labels_data_categorical, \n",
        "                                                              test_size = 0.2,\n",
        "                                                              random_state = 0)\n",
        "'''\n",
        "\n",
        "train_size = int(time_step_data.shape[0] * 0.8)\n",
        "train_X, test_X = time_step_data[0:train_size], time_step_data[train_size:time_step_data.shape[0]]\n",
        "train_labels, test_labels = labels_data_categorical[0:train_size], labels_data_categorical[train_size:time_step_data.shape[0]]\n",
        "'''"
      ],
      "execution_count": null,
      "outputs": [
        {
          "output_type": "execute_result",
          "data": {
            "application/vnd.google.colaboratory.intrinsic+json": {
              "type": "string"
            },
            "text/plain": [
              "'\\n\\ntrain_size = int(time_step_data.shape[0] * 0.8)\\ntrain_X, test_X = time_step_data[0:train_size], time_step_data[train_size:time_step_data.shape[0]]\\ntrain_labels, test_labels = labels_data_categorical[0:train_size], labels_data_categorical[train_size:time_step_data.shape[0]]\\n'"
            ]
          },
          "metadata": {
            "tags": []
          },
          "execution_count": 7
        }
      ]
    },
    {
      "cell_type": "code",
      "metadata": {
        "id": "2ML_n219mMSE",
        "colab_type": "code",
        "colab": {
          "base_uri": "https://localhost:8080/",
          "height": 102
        },
        "outputId": "b928d50d-4591-44e6-f4a9-a48b42d7da5a"
      },
      "source": [
        "print('Training Features Shape:', train_X.shape)\n",
        "print('Training Labels Shape:', train_labels.shape)\n",
        "print()\n",
        "print('Testing Features Shape:', test_X.shape)\n",
        "print('Testing Labels Shape:', test_labels.shape)"
      ],
      "execution_count": null,
      "outputs": [
        {
          "output_type": "stream",
          "text": [
            "Training Features Shape: (200304, 100, 2)\n",
            "Training Labels Shape: (200304, 2)\n",
            "\n",
            "Testing Features Shape: (50077, 100, 2)\n",
            "Testing Labels Shape: (50077, 2)\n"
          ],
          "name": "stdout"
        }
      ]
    },
    {
      "cell_type": "code",
      "metadata": {
        "id": "286UYoQXmhAA",
        "colab_type": "code",
        "colab": {}
      },
      "source": [
        "def dataset_preparation_rnn_lstm(__input_sequences__, __labels__):\n",
        "  num_of_classes = 2\n",
        "  input_sequences = __input_sequences__\n",
        "  input_sequences = input_sequences.reshape(input_sequences.shape[0], input_sequences.shape[1], input_sequences.shape[2])\n",
        "  labels = __labels__\n",
        "  total_time_steps = __input_sequences__.shape[1]\n",
        "  #labels = ku.to_categorical(labels, num_classes = num_of_classes)\n",
        "  return input_sequences, labels, total_time_steps, num_of_classes\n"
      ],
      "execution_count": null,
      "outputs": []
    },
    {
      "cell_type": "code",
      "metadata": {
        "id": "7203Y4R9mlyR",
        "colab_type": "code",
        "colab": {}
      },
      "source": [
        "input_sequences, input_labels, total_time_steps, num_of_classes = dataset_preparation_rnn_lstm(train_X, train_labels)"
      ],
      "execution_count": null,
      "outputs": []
    },
    {
      "cell_type": "code",
      "metadata": {
        "id": "7_qwr_5caTMX",
        "colab_type": "code",
        "colab": {
          "base_uri": "https://localhost:8080/",
          "height": 85
        },
        "outputId": "5e0c76f6-aaa6-4248-bf4d-86690b08d76f"
      },
      "source": [
        "print(input_sequences.shape)\n",
        "print(input_labels.shape)\n",
        "print(total_time_steps)\n",
        "print(num_of_classes)"
      ],
      "execution_count": null,
      "outputs": [
        {
          "output_type": "stream",
          "text": [
            "(200304, 100, 2)\n",
            "(200304, 2)\n",
            "100\n",
            "2\n"
          ],
          "name": "stdout"
        }
      ]
    },
    {
      "cell_type": "code",
      "metadata": {
        "id": "t8hdoPWOa7XH",
        "colab_type": "code",
        "colab": {}
      },
      "source": [
        "def create_model_rnn(input_sequences, label, total_time_steps, num_of_classes):\n",
        "    model = Sequential()\n",
        "    model.add(SimpleRNN(units=254, input_shape=(input_sequences.shape[1], input_sequences.shape[2]),\n",
        "                                              return_sequences=True))\n",
        "    model.add(SimpleRNN(units=128, return_sequences=False))\n",
        "    model.add(Dense(num_of_classes, activation='softmax'))\n",
        "    model.compile(loss='categorical_crossentropy', optimizer='adam', metrics=['accuracy'])\n",
        "    print(model.summary())\n",
        "    history = model.fit(input_sequences, label, epochs=20, verbose=1,\n",
        "                        validation_split = 0.2)\n",
        "    model.save(\"2_Simple_RNN_254Units_binary_crossentropy_adam.h5\")\n",
        "    print(model.summary())\n",
        "    return model, history"
      ],
      "execution_count": null,
      "outputs": []
    },
    {
      "cell_type": "code",
      "metadata": {
        "id": "HPmGUEvHbP-6",
        "colab_type": "code",
        "colab": {
          "base_uri": "https://localhost:8080/",
          "height": 1000
        },
        "outputId": "d3239880-d0ea-47d3-83d3-3622b7534d3d"
      },
      "source": [
        "model, history = create_model_rnn(input_sequences, input_labels, total_time_steps, num_of_classes)\n"
      ],
      "execution_count": null,
      "outputs": [
        {
          "output_type": "stream",
          "text": [
            "Model: \"sequential\"\n",
            "_________________________________________________________________\n",
            "Layer (type)                 Output Shape              Param #   \n",
            "=================================================================\n",
            "simple_rnn (SimpleRNN)       (None, 100, 254)          65278     \n",
            "_________________________________________________________________\n",
            "simple_rnn_1 (SimpleRNN)     (None, 128)               49024     \n",
            "_________________________________________________________________\n",
            "dense (Dense)                (None, 2)                 258       \n",
            "=================================================================\n",
            "Total params: 114,560\n",
            "Trainable params: 114,560\n",
            "Non-trainable params: 0\n",
            "_________________________________________________________________\n",
            "None\n",
            "Epoch 1/20\n",
            "5008/5008 [==============================] - 610s 122ms/step - loss: 0.4975 - accuracy: 0.7895 - val_loss: 0.4890 - val_accuracy: 0.7888\n",
            "Epoch 2/20\n",
            "5008/5008 [==============================] - 641s 128ms/step - loss: 0.4940 - accuracy: 0.7907 - val_loss: 0.4944 - val_accuracy: 0.7884\n",
            "Epoch 3/20\n",
            "5008/5008 [==============================] - 671s 134ms/step - loss: 0.4940 - accuracy: 0.7906 - val_loss: 0.5252 - val_accuracy: 0.7884\n",
            "Epoch 4/20\n",
            "5008/5008 [==============================] - 660s 132ms/step - loss: 0.4933 - accuracy: 0.7907 - val_loss: 0.4917 - val_accuracy: 0.7884\n",
            "Epoch 5/20\n",
            "5008/5008 [==============================] - 675s 135ms/step - loss: 0.4936 - accuracy: 0.7907 - val_loss: 0.4914 - val_accuracy: 0.7932\n",
            "Epoch 6/20\n",
            "5008/5008 [==============================] - 661s 132ms/step - loss: 0.4956 - accuracy: 0.7910 - val_loss: 0.4949 - val_accuracy: 0.7884\n",
            "Epoch 7/20\n",
            "5008/5008 [==============================] - 613s 122ms/step - loss: 0.4947 - accuracy: 0.7909 - val_loss: 0.5001 - val_accuracy: 0.7884\n",
            "Epoch 8/20\n",
            "5008/5008 [==============================] - 613s 122ms/step - loss: 0.4966 - accuracy: 0.7906 - val_loss: 0.5059 - val_accuracy: 0.7884\n",
            "Epoch 9/20\n",
            "5008/5008 [==============================] - 651s 130ms/step - loss: 0.4951 - accuracy: 0.7908 - val_loss: 0.5218 - val_accuracy: 0.7896\n",
            "Epoch 10/20\n",
            "5008/5008 [==============================] - 692s 138ms/step - loss: 0.4951 - accuracy: 0.7909 - val_loss: 0.4948 - val_accuracy: 0.7884\n",
            "Epoch 11/20\n",
            "5008/5008 [==============================] - 680s 136ms/step - loss: 0.4937 - accuracy: 0.7908 - val_loss: 0.4956 - val_accuracy: 0.7884\n",
            "Epoch 12/20\n",
            "5008/5008 [==============================] - 676s 135ms/step - loss: 0.4948 - accuracy: 0.7914 - val_loss: 0.4904 - val_accuracy: 0.7884\n",
            "Epoch 13/20\n",
            "5008/5008 [==============================] - 679s 136ms/step - loss: 0.4941 - accuracy: 0.7901 - val_loss: 0.4964 - val_accuracy: 0.7863\n",
            "Epoch 14/20\n",
            "5008/5008 [==============================] - 666s 133ms/step - loss: 0.4933 - accuracy: 0.7903 - val_loss: 0.4891 - val_accuracy: 0.7893\n",
            "Epoch 15/20\n",
            "5008/5008 [==============================] - 668s 133ms/step - loss: 0.4943 - accuracy: 0.7909 - val_loss: 0.4935 - val_accuracy: 0.7891\n",
            "Epoch 16/20\n",
            "5008/5008 [==============================] - 662s 132ms/step - loss: 0.4935 - accuracy: 0.7911 - val_loss: 0.4961 - val_accuracy: 0.7884\n",
            "Epoch 17/20\n",
            "5008/5008 [==============================] - 665s 133ms/step - loss: 0.4922 - accuracy: 0.7911 - val_loss: 0.4902 - val_accuracy: 0.7884\n",
            "Epoch 18/20\n",
            "5008/5008 [==============================] - 626s 125ms/step - loss: 0.4930 - accuracy: 0.7908 - val_loss: 0.5093 - val_accuracy: 0.7487\n",
            "Epoch 19/20\n",
            "5008/5008 [==============================] - 625s 125ms/step - loss: 0.4945 - accuracy: 0.7905 - val_loss: 0.4884 - val_accuracy: 0.7884\n",
            "Epoch 20/20\n",
            "5008/5008 [==============================] - 620s 124ms/step - loss: 0.4942 - accuracy: 0.7904 - val_loss: 0.4921 - val_accuracy: 0.7884\n",
            "Model: \"sequential\"\n",
            "_________________________________________________________________\n",
            "Layer (type)                 Output Shape              Param #   \n",
            "=================================================================\n",
            "simple_rnn (SimpleRNN)       (None, 100, 254)          65278     \n",
            "_________________________________________________________________\n",
            "simple_rnn_1 (SimpleRNN)     (None, 128)               49024     \n",
            "_________________________________________________________________\n",
            "dense (Dense)                (None, 2)                 258       \n",
            "=================================================================\n",
            "Total params: 114,560\n",
            "Trainable params: 114,560\n",
            "Non-trainable params: 0\n",
            "_________________________________________________________________\n",
            "None\n"
          ],
          "name": "stdout"
        }
      ]
    },
    {
      "cell_type": "code",
      "metadata": {
        "id": "qgJYw0ulHClo",
        "colab_type": "code",
        "colab": {
          "base_uri": "https://localhost:8080/",
          "height": 232
        },
        "outputId": "93bf3d98-494f-480c-8432-2e5cf6e4effe"
      },
      "source": [
        "#plot accuracy\n",
        "plt.plot(history.history['accuracy'])\n",
        "plt.plot(history.history['val_acc'])\n",
        "plt.title('model acc')\n",
        "plt.ylabel('accuracy')\n",
        "plt.xlabel('epoch')\n",
        "plt.legend(['train', 'test'], loc='upper left')\n",
        "plt.show()\n",
        "\n",
        "#plot loss\n",
        "plt.plot(history.history['loss'])\n",
        "plt.plot(history.history['val_loss'])\n",
        "plt.title('model loss')\n",
        "plt.ylabel('loss')\n",
        "plt.xlabel('epoch')\n",
        "plt.legend(['train', 'test'], loc='upper left')\n",
        "plt.show()"
      ],
      "execution_count": null,
      "outputs": [
        {
          "output_type": "error",
          "ename": "NameError",
          "evalue": "ignored",
          "traceback": [
            "\u001b[0;31m---------------------------------------------------------------------------\u001b[0m",
            "\u001b[0;31mNameError\u001b[0m                                 Traceback (most recent call last)",
            "\u001b[0;32m<ipython-input-1-ff1ae49cc47b>\u001b[0m in \u001b[0;36m<module>\u001b[0;34m()\u001b[0m\n\u001b[1;32m      1\u001b[0m \u001b[0;31m#plot accuracy\u001b[0m\u001b[0;34m\u001b[0m\u001b[0;34m\u001b[0m\u001b[0;34m\u001b[0m\u001b[0m\n\u001b[0;32m----> 2\u001b[0;31m \u001b[0mplt\u001b[0m\u001b[0;34m.\u001b[0m\u001b[0mplot\u001b[0m\u001b[0;34m(\u001b[0m\u001b[0mhistory\u001b[0m\u001b[0;34m.\u001b[0m\u001b[0mhistory\u001b[0m\u001b[0;34m[\u001b[0m\u001b[0;34m'accuracy'\u001b[0m\u001b[0;34m]\u001b[0m\u001b[0;34m)\u001b[0m\u001b[0;34m\u001b[0m\u001b[0;34m\u001b[0m\u001b[0m\n\u001b[0m\u001b[1;32m      3\u001b[0m \u001b[0mplt\u001b[0m\u001b[0;34m.\u001b[0m\u001b[0mplot\u001b[0m\u001b[0;34m(\u001b[0m\u001b[0mhistory\u001b[0m\u001b[0;34m.\u001b[0m\u001b[0mhistory\u001b[0m\u001b[0;34m[\u001b[0m\u001b[0;34m'val_acc'\u001b[0m\u001b[0;34m]\u001b[0m\u001b[0;34m)\u001b[0m\u001b[0;34m\u001b[0m\u001b[0;34m\u001b[0m\u001b[0m\n\u001b[1;32m      4\u001b[0m \u001b[0mplt\u001b[0m\u001b[0;34m.\u001b[0m\u001b[0mtitle\u001b[0m\u001b[0;34m(\u001b[0m\u001b[0;34m'model acc'\u001b[0m\u001b[0;34m)\u001b[0m\u001b[0;34m\u001b[0m\u001b[0;34m\u001b[0m\u001b[0m\n\u001b[1;32m      5\u001b[0m \u001b[0mplt\u001b[0m\u001b[0;34m.\u001b[0m\u001b[0mylabel\u001b[0m\u001b[0;34m(\u001b[0m\u001b[0;34m'accuracy'\u001b[0m\u001b[0;34m)\u001b[0m\u001b[0;34m\u001b[0m\u001b[0;34m\u001b[0m\u001b[0m\n",
            "\u001b[0;31mNameError\u001b[0m: name 'plt' is not defined"
          ]
        }
      ]
    },
    {
      "cell_type": "code",
      "metadata": {
        "id": "Mwq0_VBkFKX5",
        "colab_type": "code",
        "colab": {
          "base_uri": "https://localhost:8080/",
          "height": 290
        },
        "outputId": "b2835607-91da-4fe1-8a75-7553aa7f2876"
      },
      "source": [
        "plt.semilogx(history.history[\"lr\"], history.history[\"loss\"])\n",
        "plt.axis([1e-8, 1e-4, 0, 60])"
      ],
      "execution_count": null,
      "outputs": [
        {
          "output_type": "execute_result",
          "data": {
            "text/plain": [
              "(1e-08, 0.0001, 0.0, 60.0)"
            ]
          },
          "metadata": {
            "tags": []
          },
          "execution_count": 69
        },
        {
          "output_type": "display_data",
          "data": {
            "image/png": "[encoded data removed]",
            "text/plain": [
              "<Figure size 432x288 with 1 Axes>"
            ]
          },
          "metadata": {
            "tags": [],
            "needs_background": "light"
          }
        }
      ]
    },
    {
      "cell_type": "markdown",
      "metadata": {
        "id": "41qpYTB7c9HE",
        "colab_type": "text"
      },
      "source": [
        "**Basic LSTM**"
      ]
    },
    {
      "cell_type": "code",
      "metadata": {
        "id": "992KJXNVdAVC",
        "colab_type": "code",
        "colab": {}
      },
      "source": [
        "def create_model_lstm(input_sequences, label, total_time_steps, num_of_classes):\n",
        "    print(input_sequences.shape)\n",
        "    print(label.shape)\n",
        "    model = Sequential()\n",
        "    model.add(LSTM(256, input_shape=(input_sequences.shape[1], input_sequences.shape[2]), return_sequences = True))\n",
        "    #model.add(Dropout(0.2))\n",
        "    model.add(LSTM(128, return_sequences = False))\n",
        "    model.add(Dense(num_of_classes, kernel_initializer='random_uniform', activation='softmax'))\n",
        "    model.compile(loss='categorical_crossentropy', optimizer='adam', metrics=['accuracy'])\n",
        "    history = model.fit(input_sequences, label, epochs=5, verbose=1,\n",
        "                        validation_split = 0.2)\n",
        "    # serialize weights to HDF5\n",
        "    model.save(\"LSTM_50TS_7F.h5\")\n",
        "    print(model.summary())\n",
        "    return model, history"
      ],
      "execution_count": null,
      "outputs": []
    },
    {
      "cell_type": "code",
      "metadata": {
        "id": "Gpa86u7AdS7E",
        "colab_type": "code",
        "colab": {
          "base_uri": "https://localhost:8080/",
          "height": 409
        },
        "outputId": "0decd76c-07ba-45f3-b7a9-b25a115bee03"
      },
      "source": [
        "model, history = create_model_lstm(input_sequences, input_labels, total_time_steps, num_of_classes)\n"
      ],
      "execution_count": null,
      "outputs": [
        {
          "output_type": "stream",
          "text": [
            "(200554, 50, 2)\n",
            "(200554, 2)\n",
            "Epoch 1/5\n",
            " 268/5014 [>.............................] - ETA: 18:22 - loss: 0.4876 - accuracy: 0.7922"
          ],
          "name": "stdout"
        },
        {
          "output_type": "error",
          "ename": "KeyboardInterrupt",
          "evalue": "ignored",
          "traceback": [
            "\u001b[0;31m---------------------------------------------------------------------------\u001b[0m",
            "\u001b[0;31mKeyboardInterrupt\u001b[0m                         Traceback (most recent call last)",
            "\u001b[0;32m<ipython-input-56-be1e6d4be7e9>\u001b[0m in \u001b[0;36m<module>\u001b[0;34m()\u001b[0m\n\u001b[0;32m----> 1\u001b[0;31m \u001b[0mmodel\u001b[0m\u001b[0;34m,\u001b[0m \u001b[0mhistory\u001b[0m \u001b[0;34m=\u001b[0m \u001b[0mcreate_model_lstm\u001b[0m\u001b[0;34m(\u001b[0m\u001b[0minput_sequences\u001b[0m\u001b[0;34m,\u001b[0m \u001b[0minput_labels\u001b[0m\u001b[0;34m,\u001b[0m \u001b[0mtotal_time_steps\u001b[0m\u001b[0;34m,\u001b[0m \u001b[0mnum_of_classes\u001b[0m\u001b[0;34m)\u001b[0m\u001b[0;34m\u001b[0m\u001b[0;34m\u001b[0m\u001b[0m\n\u001b[0m",
            "\u001b[0;32m<ipython-input-55-6f00fbeb73dd>\u001b[0m in \u001b[0;36mcreate_model_lstm\u001b[0;34m(input_sequences, label, total_time_steps, num_of_classes)\u001b[0m\n\u001b[1;32m      9\u001b[0m     \u001b[0mmodel\u001b[0m\u001b[0;34m.\u001b[0m\u001b[0mcompile\u001b[0m\u001b[0;34m(\u001b[0m\u001b[0mloss\u001b[0m\u001b[0;34m=\u001b[0m\u001b[0;34m'categorical_crossentropy'\u001b[0m\u001b[0;34m,\u001b[0m \u001b[0moptimizer\u001b[0m\u001b[0;34m=\u001b[0m\u001b[0;34m'adam'\u001b[0m\u001b[0;34m,\u001b[0m \u001b[0mmetrics\u001b[0m\u001b[0;34m=\u001b[0m\u001b[0;34m[\u001b[0m\u001b[0;34m'accuracy'\u001b[0m\u001b[0;34m]\u001b[0m\u001b[0;34m)\u001b[0m\u001b[0;34m\u001b[0m\u001b[0;34m\u001b[0m\u001b[0m\n\u001b[1;32m     10\u001b[0m     history = model.fit(input_sequences, label, epochs=5, verbose=1,\n\u001b[0;32m---> 11\u001b[0;31m                         validation_split = 0.2)\n\u001b[0m\u001b[1;32m     12\u001b[0m     \u001b[0;31m# serialize weights to HDF5\u001b[0m\u001b[0;34m\u001b[0m\u001b[0;34m\u001b[0m\u001b[0;34m\u001b[0m\u001b[0m\n\u001b[1;32m     13\u001b[0m     \u001b[0mmodel\u001b[0m\u001b[0;34m.\u001b[0m\u001b[0msave\u001b[0m\u001b[0;34m(\u001b[0m\u001b[0;34m\"LSTM_50TS_7F.h5\"\u001b[0m\u001b[0;34m)\u001b[0m\u001b[0;34m\u001b[0m\u001b[0;34m\u001b[0m\u001b[0m\n",
            "\u001b[0;32m/usr/local/lib/python3.6/dist-packages/tensorflow/python/keras/engine/training.py\u001b[0m in \u001b[0;36m_method_wrapper\u001b[0;34m(self, *args, **kwargs)\u001b[0m\n\u001b[1;32m    106\u001b[0m   \u001b[0;32mdef\u001b[0m \u001b[0m_method_wrapper\u001b[0m\u001b[0;34m(\u001b[0m\u001b[0mself\u001b[0m\u001b[0;34m,\u001b[0m \u001b[0;34m*\u001b[0m\u001b[0margs\u001b[0m\u001b[0;34m,\u001b[0m \u001b[0;34m**\u001b[0m\u001b[0mkwargs\u001b[0m\u001b[0;34m)\u001b[0m\u001b[0;34m:\u001b[0m\u001b[0;34m\u001b[0m\u001b[0;34m\u001b[0m\u001b[0m\n\u001b[1;32m    107\u001b[0m     \u001b[0;32mif\u001b[0m \u001b[0;32mnot\u001b[0m \u001b[0mself\u001b[0m\u001b[0;34m.\u001b[0m\u001b[0m_in_multi_worker_mode\u001b[0m\u001b[0;34m(\u001b[0m\u001b[0;34m)\u001b[0m\u001b[0;34m:\u001b[0m  \u001b[0;31m# pylint: disable=protected-access\u001b[0m\u001b[0;34m\u001b[0m\u001b[0;34m\u001b[0m\u001b[0m\n\u001b[0;32m--> 108\u001b[0;31m       \u001b[0;32mreturn\u001b[0m \u001b[0mmethod\u001b[0m\u001b[0;34m(\u001b[0m\u001b[0mself\u001b[0m\u001b[0;34m,\u001b[0m \u001b[0;34m*\u001b[0m\u001b[0margs\u001b[0m\u001b[0;34m,\u001b[0m \u001b[0;34m**\u001b[0m\u001b[0mkwargs\u001b[0m\u001b[0;34m)\u001b[0m\u001b[0;34m\u001b[0m\u001b[0;34m\u001b[0m\u001b[0m\n\u001b[0m\u001b[1;32m    109\u001b[0m \u001b[0;34m\u001b[0m\u001b[0m\n\u001b[1;32m    110\u001b[0m     \u001b[0;31m# Running inside `run_distribute_coordinator` already.\u001b[0m\u001b[0;34m\u001b[0m\u001b[0;34m\u001b[0m\u001b[0;34m\u001b[0m\u001b[0m\n",
            "\u001b[0;32m/usr/local/lib/python3.6/dist-packages/tensorflow/python/keras/engine/training.py\u001b[0m in \u001b[0;36mfit\u001b[0;34m(self, x, y, batch_size, epochs, verbose, callbacks, validation_split, validation_data, shuffle, class_weight, sample_weight, initial_epoch, steps_per_epoch, validation_steps, validation_batch_size, validation_freq, max_queue_size, workers, use_multiprocessing)\u001b[0m\n\u001b[1;32m   1096\u001b[0m                 batch_size=batch_size):\n\u001b[1;32m   1097\u001b[0m               \u001b[0mcallbacks\u001b[0m\u001b[0;34m.\u001b[0m\u001b[0mon_train_batch_begin\u001b[0m\u001b[0;34m(\u001b[0m\u001b[0mstep\u001b[0m\u001b[0;34m)\u001b[0m\u001b[0;34m\u001b[0m\u001b[0;34m\u001b[0m\u001b[0m\n\u001b[0;32m-> 1098\u001b[0;31m               \u001b[0mtmp_logs\u001b[0m \u001b[0;34m=\u001b[0m \u001b[0mtrain_function\u001b[0m\u001b[0;34m(\u001b[0m\u001b[0miterator\u001b[0m\u001b[0;34m)\u001b[0m\u001b[0;34m\u001b[0m\u001b[0;34m\u001b[0m\u001b[0m\n\u001b[0m\u001b[1;32m   1099\u001b[0m               \u001b[0;32mif\u001b[0m \u001b[0mdata_handler\u001b[0m\u001b[0;34m.\u001b[0m\u001b[0mshould_sync\u001b[0m\u001b[0;34m:\u001b[0m\u001b[0;34m\u001b[0m\u001b[0;34m\u001b[0m\u001b[0m\n\u001b[1;32m   1100\u001b[0m                 \u001b[0mcontext\u001b[0m\u001b[0;34m.\u001b[0m\u001b[0masync_wait\u001b[0m\u001b[0;34m(\u001b[0m\u001b[0;34m)\u001b[0m\u001b[0;34m\u001b[0m\u001b[0;34m\u001b[0m\u001b[0m\n",
            "\u001b[0;32m/usr/local/lib/python3.6/dist-packages/tensorflow/python/eager/def_function.py\u001b[0m in \u001b[0;36m__call__\u001b[0;34m(self, *args, **kwds)\u001b[0m\n\u001b[1;32m    778\u001b[0m       \u001b[0;32melse\u001b[0m\u001b[0;34m:\u001b[0m\u001b[0;34m\u001b[0m\u001b[0;34m\u001b[0m\u001b[0m\n\u001b[1;32m    779\u001b[0m         \u001b[0mcompiler\u001b[0m \u001b[0;34m=\u001b[0m \u001b[0;34m\"nonXla\"\u001b[0m\u001b[0;34m\u001b[0m\u001b[0;34m\u001b[0m\u001b[0m\n\u001b[0;32m--> 780\u001b[0;31m         \u001b[0mresult\u001b[0m \u001b[0;34m=\u001b[0m \u001b[0mself\u001b[0m\u001b[0;34m.\u001b[0m\u001b[0m_call\u001b[0m\u001b[0;34m(\u001b[0m\u001b[0;34m*\u001b[0m\u001b[0margs\u001b[0m\u001b[0;34m,\u001b[0m \u001b[0;34m**\u001b[0m\u001b[0mkwds\u001b[0m\u001b[0;34m)\u001b[0m\u001b[0;34m\u001b[0m\u001b[0;34m\u001b[0m\u001b[0m\n\u001b[0m\u001b[1;32m    781\u001b[0m \u001b[0;34m\u001b[0m\u001b[0m\n\u001b[1;32m    782\u001b[0m       \u001b[0mnew_tracing_count\u001b[0m \u001b[0;34m=\u001b[0m \u001b[0mself\u001b[0m\u001b[0;34m.\u001b[0m\u001b[0m_get_tracing_count\u001b[0m\u001b[0;34m(\u001b[0m\u001b[0;34m)\u001b[0m\u001b[0;34m\u001b[0m\u001b[0;34m\u001b[0m\u001b[0m\n",
            "\u001b[0;32m/usr/local/lib/python3.6/dist-packages/tensorflow/python/eager/def_function.py\u001b[0m in \u001b[0;36m_call\u001b[0;34m(self, *args, **kwds)\u001b[0m\n\u001b[1;32m    805\u001b[0m       \u001b[0;31m# In this case we have created variables on the first call, so we run the\u001b[0m\u001b[0;34m\u001b[0m\u001b[0;34m\u001b[0m\u001b[0;34m\u001b[0m\u001b[0m\n\u001b[1;32m    806\u001b[0m       \u001b[0;31m# defunned version which is guaranteed to never create variables.\u001b[0m\u001b[0;34m\u001b[0m\u001b[0;34m\u001b[0m\u001b[0;34m\u001b[0m\u001b[0m\n\u001b[0;32m--> 807\u001b[0;31m       \u001b[0;32mreturn\u001b[0m \u001b[0mself\u001b[0m\u001b[0;34m.\u001b[0m\u001b[0m_stateless_fn\u001b[0m\u001b[0;34m(\u001b[0m\u001b[0;34m*\u001b[0m\u001b[0margs\u001b[0m\u001b[0;34m,\u001b[0m \u001b[0;34m**\u001b[0m\u001b[0mkwds\u001b[0m\u001b[0;34m)\u001b[0m  \u001b[0;31m# pylint: disable=not-callable\u001b[0m\u001b[0;34m\u001b[0m\u001b[0;34m\u001b[0m\u001b[0m\n\u001b[0m\u001b[1;32m    808\u001b[0m     \u001b[0;32melif\u001b[0m \u001b[0mself\u001b[0m\u001b[0;34m.\u001b[0m\u001b[0m_stateful_fn\u001b[0m \u001b[0;32mis\u001b[0m \u001b[0;32mnot\u001b[0m \u001b[0;32mNone\u001b[0m\u001b[0;34m:\u001b[0m\u001b[0;34m\u001b[0m\u001b[0;34m\u001b[0m\u001b[0m\n\u001b[1;32m    809\u001b[0m       \u001b[0;31m# Release the lock early so that multiple threads can perform the call\u001b[0m\u001b[0;34m\u001b[0m\u001b[0;34m\u001b[0m\u001b[0;34m\u001b[0m\u001b[0m\n",
            "\u001b[0;32m/usr/local/lib/python3.6/dist-packages/tensorflow/python/eager/function.py\u001b[0m in \u001b[0;36m__call__\u001b[0;34m(self, *args, **kwargs)\u001b[0m\n\u001b[1;32m   2827\u001b[0m     \u001b[0;32mwith\u001b[0m \u001b[0mself\u001b[0m\u001b[0;34m.\u001b[0m\u001b[0m_lock\u001b[0m\u001b[0;34m:\u001b[0m\u001b[0;34m\u001b[0m\u001b[0;34m\u001b[0m\u001b[0m\n\u001b[1;32m   2828\u001b[0m       \u001b[0mgraph_function\u001b[0m\u001b[0;34m,\u001b[0m \u001b[0margs\u001b[0m\u001b[0;34m,\u001b[0m \u001b[0mkwargs\u001b[0m \u001b[0;34m=\u001b[0m \u001b[0mself\u001b[0m\u001b[0;34m.\u001b[0m\u001b[0m_maybe_define_function\u001b[0m\u001b[0;34m(\u001b[0m\u001b[0margs\u001b[0m\u001b[0;34m,\u001b[0m \u001b[0mkwargs\u001b[0m\u001b[0;34m)\u001b[0m\u001b[0;34m\u001b[0m\u001b[0;34m\u001b[0m\u001b[0m\n\u001b[0;32m-> 2829\u001b[0;31m     \u001b[0;32mreturn\u001b[0m \u001b[0mgraph_function\u001b[0m\u001b[0;34m.\u001b[0m\u001b[0m_filtered_call\u001b[0m\u001b[0;34m(\u001b[0m\u001b[0margs\u001b[0m\u001b[0;34m,\u001b[0m \u001b[0mkwargs\u001b[0m\u001b[0;34m)\u001b[0m  \u001b[0;31m# pylint: disable=protected-access\u001b[0m\u001b[0;34m\u001b[0m\u001b[0;34m\u001b[0m\u001b[0m\n\u001b[0m\u001b[1;32m   2830\u001b[0m \u001b[0;34m\u001b[0m\u001b[0m\n\u001b[1;32m   2831\u001b[0m   \u001b[0;34m@\u001b[0m\u001b[0mproperty\u001b[0m\u001b[0;34m\u001b[0m\u001b[0;34m\u001b[0m\u001b[0m\n",
            "\u001b[0;32m/usr/local/lib/python3.6/dist-packages/tensorflow/python/eager/function.py\u001b[0m in \u001b[0;36m_filtered_call\u001b[0;34m(self, args, kwargs, cancellation_manager)\u001b[0m\n\u001b[1;32m   1846\u001b[0m                            resource_variable_ops.BaseResourceVariable))],\n\u001b[1;32m   1847\u001b[0m         \u001b[0mcaptured_inputs\u001b[0m\u001b[0;34m=\u001b[0m\u001b[0mself\u001b[0m\u001b[0;34m.\u001b[0m\u001b[0mcaptured_inputs\u001b[0m\u001b[0;34m,\u001b[0m\u001b[0;34m\u001b[0m\u001b[0;34m\u001b[0m\u001b[0m\n\u001b[0;32m-> 1848\u001b[0;31m         cancellation_manager=cancellation_manager)\n\u001b[0m\u001b[1;32m   1849\u001b[0m \u001b[0;34m\u001b[0m\u001b[0m\n\u001b[1;32m   1850\u001b[0m   \u001b[0;32mdef\u001b[0m \u001b[0m_call_flat\u001b[0m\u001b[0;34m(\u001b[0m\u001b[0mself\u001b[0m\u001b[0;34m,\u001b[0m \u001b[0margs\u001b[0m\u001b[0;34m,\u001b[0m \u001b[0mcaptured_inputs\u001b[0m\u001b[0;34m,\u001b[0m \u001b[0mcancellation_manager\u001b[0m\u001b[0;34m=\u001b[0m\u001b[0;32mNone\u001b[0m\u001b[0;34m)\u001b[0m\u001b[0;34m:\u001b[0m\u001b[0;34m\u001b[0m\u001b[0;34m\u001b[0m\u001b[0m\n",
            "\u001b[0;32m/usr/local/lib/python3.6/dist-packages/tensorflow/python/eager/function.py\u001b[0m in \u001b[0;36m_call_flat\u001b[0;34m(self, args, captured_inputs, cancellation_manager)\u001b[0m\n\u001b[1;32m   1922\u001b[0m       \u001b[0;31m# No tape is watching; skip to running the function.\u001b[0m\u001b[0;34m\u001b[0m\u001b[0;34m\u001b[0m\u001b[0;34m\u001b[0m\u001b[0m\n\u001b[1;32m   1923\u001b[0m       return self._build_call_outputs(self._inference_function.call(\n\u001b[0;32m-> 1924\u001b[0;31m           ctx, args, cancellation_manager=cancellation_manager))\n\u001b[0m\u001b[1;32m   1925\u001b[0m     forward_backward = self._select_forward_and_backward_functions(\n\u001b[1;32m   1926\u001b[0m         \u001b[0margs\u001b[0m\u001b[0;34m,\u001b[0m\u001b[0;34m\u001b[0m\u001b[0;34m\u001b[0m\u001b[0m\n",
            "\u001b[0;32m/usr/local/lib/python3.6/dist-packages/tensorflow/python/eager/function.py\u001b[0m in \u001b[0;36mcall\u001b[0;34m(self, ctx, args, cancellation_manager)\u001b[0m\n\u001b[1;32m    548\u001b[0m               \u001b[0minputs\u001b[0m\u001b[0;34m=\u001b[0m\u001b[0margs\u001b[0m\u001b[0;34m,\u001b[0m\u001b[0;34m\u001b[0m\u001b[0;34m\u001b[0m\u001b[0m\n\u001b[1;32m    549\u001b[0m               \u001b[0mattrs\u001b[0m\u001b[0;34m=\u001b[0m\u001b[0mattrs\u001b[0m\u001b[0;34m,\u001b[0m\u001b[0;34m\u001b[0m\u001b[0;34m\u001b[0m\u001b[0m\n\u001b[0;32m--> 550\u001b[0;31m               ctx=ctx)\n\u001b[0m\u001b[1;32m    551\u001b[0m         \u001b[0;32melse\u001b[0m\u001b[0;34m:\u001b[0m\u001b[0;34m\u001b[0m\u001b[0;34m\u001b[0m\u001b[0m\n\u001b[1;32m    552\u001b[0m           outputs = execute.execute_with_cancellation(\n",
            "\u001b[0;32m/usr/local/lib/python3.6/dist-packages/tensorflow/python/eager/execute.py\u001b[0m in \u001b[0;36mquick_execute\u001b[0;34m(op_name, num_outputs, inputs, attrs, ctx, name)\u001b[0m\n\u001b[1;32m     58\u001b[0m     \u001b[0mctx\u001b[0m\u001b[0;34m.\u001b[0m\u001b[0mensure_initialized\u001b[0m\u001b[0;34m(\u001b[0m\u001b[0;34m)\u001b[0m\u001b[0;34m\u001b[0m\u001b[0;34m\u001b[0m\u001b[0m\n\u001b[1;32m     59\u001b[0m     tensors = pywrap_tfe.TFE_Py_Execute(ctx._handle, device_name, op_name,\n\u001b[0;32m---> 60\u001b[0;31m                                         inputs, attrs, num_outputs)\n\u001b[0m\u001b[1;32m     61\u001b[0m   \u001b[0;32mexcept\u001b[0m \u001b[0mcore\u001b[0m\u001b[0;34m.\u001b[0m\u001b[0m_NotOkStatusException\u001b[0m \u001b[0;32mas\u001b[0m \u001b[0me\u001b[0m\u001b[0;34m:\u001b[0m\u001b[0;34m\u001b[0m\u001b[0;34m\u001b[0m\u001b[0m\n\u001b[1;32m     62\u001b[0m     \u001b[0;32mif\u001b[0m \u001b[0mname\u001b[0m \u001b[0;32mis\u001b[0m \u001b[0;32mnot\u001b[0m \u001b[0;32mNone\u001b[0m\u001b[0;34m:\u001b[0m\u001b[0;34m\u001b[0m\u001b[0;34m\u001b[0m\u001b[0m\n",
            "\u001b[0;31mKeyboardInterrupt\u001b[0m: "
          ]
        }
      ]
    },
    {
      "cell_type": "code",
      "metadata": {
        "id": "jiIZZzycXM9t",
        "colab_type": "code",
        "colab": {}
      },
      "source": [
        ""
      ],
      "execution_count": null,
      "outputs": []
    },
    {
      "cell_type": "code",
      "metadata": {
        "id": "d-_0MONOeLoR",
        "colab_type": "code",
        "colab": {}
      },
      "source": [
        "#plot accuracy\n",
        "plt.plot(history.history['accuracy'])\n",
        "plt.plot(history.history['val_accuracy'])\n",
        "plt.title('model acc')\n",
        "plt.ylabel('accuracy')\n",
        "plt.xlabel('epoch')\n",
        "plt.legend(['train', 'test'], loc='upper left')\n",
        "plt.show()\n",
        "\n",
        "#plot loss\n",
        "plt.plot(history.history['loss'])\n",
        "plt.plot(history.history['val_loss'])\n",
        "plt.title('model loss')\n",
        "plt.ylabel('loss')\n",
        "plt.xlabel('epoch')\n",
        "plt.legend(['train', 'test'], loc='upper left')\n",
        "plt.show()"
      ],
      "execution_count": null,
      "outputs": []
    },
    {
      "cell_type": "code",
      "metadata": {
        "id": "4yjPqEZzXIQo",
        "colab_type": "code",
        "colab": {}
      },
      "source": [
        "# predict the test cases\n",
        "test_input_sequences, test_input_labels, total_time_steps, num_of_classes = dataset_preparation_rnn_lstm(test_X, test_labels)"
      ],
      "execution_count": null,
      "outputs": []
    }
  ]
}