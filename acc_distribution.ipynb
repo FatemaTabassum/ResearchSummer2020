{
  "nbformat": 4,
  "nbformat_minor": 0,
  "metadata": {
    "colab": {
      "name": "acc_distribution.ipynb",
      "provenance": [],
      "authorship_tag": "ABX9TyNtWOY+t0VjPfpbduHCB+mp",
      "include_colab_link": true
    },
    "kernelspec": {
      "name": "python3",
      "display_name": "Python 3"
    }
  },
  "cells": [
    {
      "cell_type": "markdown",
      "metadata": {
        "id": "view-in-github",
        "colab_type": "text"
      },
      "source": [
        "<a href=\"https://colab.research.google.com/github/FatemaTabassum/ResearchSummer2020/blob/master/acc_distribution.ipynb\" target=\"_parent\"><img src=\"https://colab.research.google.com/assets/colab-badge.svg\" alt=\"Open In Colab\"/></a>"
      ]
    },
    {
      "cell_type": "code",
      "metadata": {
        "id": "IBZdCx0ap5c6",
        "colab_type": "code",
        "colab": {
          "base_uri": "https://localhost:8080/",
          "height": 613
        },
        "outputId": "7097d421-858f-48cf-a98b-d6a853faeb1d"
      },
      "source": [
        "import pandas as pd\n",
        "import numpy as np\n",
        "import matplotlib.pyplot as plt\n",
        "import seaborn as sns\n",
        "\n",
        "\n",
        "\n",
        "with open('acc_dist.txt') as f:\n",
        "    lines = f.readlines()\n",
        "\n",
        "acc_dict = {}\n",
        "acc_list = []\n",
        "for line in lines:\n",
        "  x = line.split(\", \")\n",
        "  x = x[0].split(' ')\n",
        "  int_src = int(x[1])\n",
        "  float_acc = float(x[3])\n",
        "  acc_dict[int_src] = float_acc\n",
        "  acc_list.append(float_acc)\n",
        "\n",
        "df = pd.DataFrame(list(acc_dict.items()),columns = ['src','acc'])\n",
        "print(df.head()) \n",
        "\n",
        "# Draw a vertical bar chart\n",
        "\n",
        "plt.rcParams[\"figure.figsize\"] = (13,6)\n",
        "df.plot.bar(x=\"src\", y=\"acc\", rot=30,  title=\"accuracy dist\");\n",
        "\n",
        "plt.show(block=True);\n",
        "\n",
        "'''\n",
        "\n",
        "# matplotlib histogram\n",
        "plt.hist(df['src'], color = 'blue', edgecolor = 'black')\n",
        "\n",
        "# Add labels\n",
        "plt.title('Histogram of Arrival Delays')\n",
        "plt.xlabel('Delay (min)')\n",
        "plt.ylabel('Flights')\n",
        "\n",
        "'''\n",
        "\n",
        "acc_list = np.array(acc_list)\n",
        "print(acc_list)"
      ],
      "execution_count": null,
      "outputs": [
        {
          "output_type": "stream",
          "text": [
            "   src       acc\n",
            "0    0  0.818179\n",
            "1    1  0.847168\n",
            "2    2  0.734312\n",
            "3    3  0.844661\n",
            "4    4  0.784057\n"
          ],
          "name": "stdout"
        },
        {
          "output_type": "display_data",
          "data": {
            "image/png": "[encoded data removed]",
            "text/plain": [
              "<Figure size 936x432 with 1 Axes>"
            ]
          },
          "metadata": {
            "tags": [],
            "needs_background": "light"
          }
        },
        {
          "output_type": "stream",
          "text": [
            "[0.81817865 0.84716833 0.73431218 0.8446613  0.7840575  0.80022776\n",
            " 0.75374091 0.81791818 0.81476992 0.79444319 0.85530365 0.78128856\n",
            " 0.81281829 0.72390407 0.81365687 0.7662468  0.79618639 0.78800792\n",
            " 0.81512231 0.75551695 0.79932535 0.85404295 0.7638126  0.7443856\n",
            " 0.81623763 0.83574831 0.79991245 0.74150985 0.75468457 0.82320619\n",
            " 0.74172914 0.82719916 0.85147458 0.85297978 0.78151584 0.83529395]\n"
          ],
          "name": "stdout"
        }
      ]
    },
    {
      "cell_type": "code",
      "metadata": {
        "id": "_cQ899QP2iuM",
        "colab_type": "code",
        "colab": {}
      },
      "source": [
        ""
      ],
      "execution_count": null,
      "outputs": []
    }
  ]
}